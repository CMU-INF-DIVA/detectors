{
 "cells": [
  {
   "cell_type": "code",
   "execution_count": null,
   "metadata": {},
   "outputs": [],
   "source": [
    "%matplotlib inline\n",
    "%config InlineBackend.figure_format = 'retina'\n",
    "\n",
    "from test import detectors, draw_grid, load_images\n",
    "images = load_images()"
   ]
  },
  {
   "cell_type": "code",
   "execution_count": null,
   "metadata": {},
   "outputs": [],
   "source": [
    "name = 'Mask R-CNN'\n",
    "params = {'model': ['res50', 'res101', 'res101x'], \n",
    "          'input_shape': [(640, 360), (1280, 720), (1333, 800), (1920, 1080)],\n",
    "          'score_threshold': [0.25, 0.5]}\n",
    "draw_grid(name, params, images)"
   ]
  },
  {
   "cell_type": "code",
   "execution_count": null,
   "metadata": {},
   "outputs": [],
   "source": [
    "name = 'YOLOv5'\n",
    "params = {'model': ['yolov5s', 'yolov5m', 'yolov5l', 'yolov5x'],\n",
    "          'input_shape': [416, 640, 1280, 1920]}\n",
    "draw_grid(name, params, images)"
   ]
  },
  {
   "cell_type": "code",
   "execution_count": null,
   "metadata": {},
   "outputs": [],
   "source": [
    "name = 'Efficient Det'\n",
    "params = {'model': [f'd{i}' for i in range(8)]}\n",
    "draw_grid(name, params, images)"
   ]
  },
  {
   "cell_type": "code",
   "execution_count": null,
   "metadata": {},
   "outputs": [],
   "source": [
    "model = detectors.get('Mask R-CNN')(0, model='res101', input_shape=(1920, 1080), score_threshold=0.25)\n",
    "data = [*images.values()] * 4\n",
    "detections = model(data)\n",
    "del detections"
   ]
  },
  {
   "cell_type": "code",
   "execution_count": null,
   "metadata": {},
   "outputs": [],
   "source": [
    "%%timeit\n",
    "detections = model(data)\n",
    "del detections"
   ]
  },
  {
   "cell_type": "code",
   "execution_count": null,
   "metadata": {},
   "outputs": [],
   "source": [
    "model = detectors.get('YOLOv5')(0, 'yolov5l', 1920)\n",
    "data = [*images.values()] * 4\n",
    "detections = model(data)\n",
    "del detections"
   ]
  },
  {
   "cell_type": "code",
   "execution_count": null,
   "metadata": {},
   "outputs": [],
   "source": [
    "%%timeit\n",
    "detections = model(data)\n",
    "del detections"
   ]
  },
  {
   "cell_type": "code",
   "execution_count": null,
   "metadata": {},
   "outputs": [],
   "source": [
    "model = detectors.get('Efficient Det')(0, 'd4')\n",
    "data = [*images.values()] * 4\n",
    "detections = model(data)\n",
    "del detections"
   ]
  },
  {
   "cell_type": "code",
   "execution_count": null,
   "metadata": {},
   "outputs": [],
   "source": [
    "%%timeit\n",
    "detections = model(data)\n",
    "del detections"
   ]
  }
 ],
 "metadata": {
  "kernelspec": {
   "display_name": "Python [conda env:actev]",
   "language": "python",
   "name": "conda-env-actev-py"
  },
  "language_info": {
   "codemirror_mode": {
    "name": "ipython",
    "version": 3
   },
   "file_extension": ".py",
   "mimetype": "text/x-python",
   "name": "python",
   "nbconvert_exporter": "python",
   "pygments_lexer": "ipython3",
   "version": "3.7.7"
  }
 },
 "nbformat": 4,
 "nbformat_minor": 4
}
